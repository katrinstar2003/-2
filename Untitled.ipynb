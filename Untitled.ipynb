{
 "cells": [
  {
   "cell_type": "code",
   "execution_count": 31,
   "metadata": {},
   "outputs": [
    {
     "data": {
      "text/plain": [
       "True"
      ]
     },
     "execution_count": 31,
     "metadata": {},
     "output_type": "execute_result"
    }
   ],
   "source": [
    "len('Насколько проще было бы писать программы, если бы не заказчики') > len('640Кб должно хватить для любых задач. Билл Гейтс (по легенде)')"
   ]
  },
  {
   "cell_type": "code",
   "execution_count": 79,
   "metadata": {},
   "outputs": [
    {
     "name": "stdout",
     "output_type": "stream",
     "text": [
      "Фраза 2 длиннее фразы 1\n"
     ]
    }
   ],
   "source": [
    "phrase_1 = '640Кб должно хватить для любых задач. Билл Гейтс (по легенде)'\n",
    "phrase_2 = 'Насколько проще было бы писать программы, если бы не заказчики'\n",
    "if phrase_2 > phrase_1:\n",
    "    print('Фраза 2 длиннее фразы 1')"
   ]
  },
  {
   "cell_type": "code",
   "execution_count": 23,
   "metadata": {},
   "outputs": [
    {
     "data": {
      "text/plain": [
       "True"
      ]
     },
     "execution_count": 23,
     "metadata": {},
     "output_type": "execute_result"
    }
   ],
   "source": [
    "phrase_1 = 'Насколько проще было бы писать программы, если бы не заказчики'\n",
    "phrase_2 = 'Насколько проще было бы писать программы, если бы не заказчики'\n",
    "phrase_1 >= phrase_2"
   ]
  },
  {
   "cell_type": "code",
   "execution_count": 169,
   "metadata": {},
   "outputs": [
    {
     "name": "stdout",
     "output_type": "stream",
     "text": [
      "Високосный год\n"
     ]
    }
   ],
   "source": [
    "year = 2020\n",
    "if year >= 2019:\n",
    "    print('Високосный год')\n"
   ]
  },
  {
   "cell_type": "code",
   "execution_count": 170,
   "metadata": {},
   "outputs": [
    {
     "name": "stdout",
     "output_type": "stream",
     "text": [
      "Обычный год\n"
     ]
    }
   ],
   "source": [
    "year = 2019\n",
    "if year <= 2020:\n",
    "    print('Обычный год')"
   ]
  },
  {
   "cell_type": "code",
   "execution_count": 144,
   "metadata": {},
   "outputs": [
    {
     "name": "stdout",
     "output_type": "stream",
     "text": [
      "Введите дату30\n",
      "Введите месяц8\n",
      "Дева\n"
     ]
    }
   ],
   "source": [
    "user_input = int(input('Введите дату'))\n",
    "user_input = int(input('Введите месяц'))\n",
    "if user_input < 31 and user_input < 9:\n",
    "    print('Дева')\n",
    "elif user_input < 30 and user_input > 8:\n",
    "    print('Скорпион')\n",
    "else:\n",
    "    print('Другой знак зодиака')"
   ]
  },
  {
   "cell_type": "code",
   "execution_count": 168,
   "metadata": {},
   "outputs": [
    {
     "name": "stdout",
     "output_type": "stream",
     "text": [
      "Упаковка для лыж\n"
     ]
    }
   ],
   "source": [
    "length = 205\n",
    "width = 10\n",
    "height = 5\n",
    "if length > 200:\n",
    "    print('Упаковка для лыж')\n",
    "elif width and length and height < 15:\n",
    "    print('Коробка 1')\n",
    "elif ('width > 15 and width < 50') or ('length > 15 and length < 50') or ('height > 15 and height < 50'):\n",
    "    print('Коробка 2') \n",
    "else:\n",
    "    print('Стандартная коробка 3')"
   ]
  },
  {
   "cell_type": "code",
   "execution_count": null,
   "metadata": {},
   "outputs": [],
   "source": []
  }
 ],
 "metadata": {
  "kernelspec": {
   "display_name": "Python 3",
   "language": "python",
   "name": "python3"
  },
  "language_info": {
   "codemirror_mode": {
    "name": "ipython",
    "version": 3
   },
   "file_extension": ".py",
   "mimetype": "text/x-python",
   "name": "python",
   "nbconvert_exporter": "python",
   "pygments_lexer": "ipython3",
   "version": "3.8.3"
  }
 },
 "nbformat": 4,
 "nbformat_minor": 4
}
